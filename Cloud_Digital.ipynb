{
  "nbformat": 4,
  "nbformat_minor": 0,
  "metadata": {
    "colab": {
      "name": "Cloud Digital.ipynb",
      "provenance": [],
      "collapsed_sections": [],
      "mount_file_id": "1rzaZDYJU2MpcMvxg4e_xRG3sCpbiWpdU",
      "authorship_tag": "ABX9TyN7vWItpRvvMXs/u1Kdh90J",
      "include_colab_link": true
    },
    "kernelspec": {
      "name": "python3",
      "display_name": "Python 3"
    },
    "language_info": {
      "name": "python"
    }
  },
  "cells": [
    {
      "cell_type": "markdown",
      "metadata": {
        "id": "view-in-github",
        "colab_type": "text"
      },
      "source": [
        "<a href=\"https://colab.research.google.com/github/xiptv/dzp/blob/main/Cloud_Digital.ipynb\" target=\"_parent\"><img src=\"https://colab.research.google.com/assets/colab-badge.svg\" alt=\"Open In Colab\"/></a>"
      ]
    },
    {
      "cell_type": "code",
      "metadata": {
        "id": "NYOQ_KfTL-X8",
        "colab": {
          "base_uri": "https://localhost:8080/"
        },
        "cellView": "form",
        "outputId": "578bb5d8-6ab4-461d-b035-8009ec9f1086"
      },
      "source": [
        "# ============================= FORM ============================= #\n",
        "# @markdown <font size=5>← [Start] qBittorrent</font>\n",
        "#QBITTORRENT_VARIANT = \"official\" #@param [\"official\", \"unofficial\"]\n",
        "## @markdown ---\n",
        "## @markdown <p>qBittorrent Default Credential</p>\n",
        "## @markdown > Username: admin</br>Password: adminadmin\n",
        "## @markdown ---\n",
        "#USE_FREE_TOKEN = True  # @param {type:\"boolean\"}\n",
        "#TOKEN = \"\"  # @param {type:\"string\"}\n",
        "#PORT_FORWARD = \"localhost\" # @param [\"ngrok\", \"localhost\"]\n",
        "USE_FREE_TOKEN = True\n",
        "TOKEN = \"\"\n",
        "PORT_FORWARD = \"localhost\"\n",
        "# ================================================================ #\n",
        " \n",
        "import os, psutil, time, urllib.request\n",
        "from IPython.display import HTML, clear_output\n",
        " \n",
        "HOME = os.path.expanduser(\"~\")\n",
        " \n",
        "if not os.path.exists(f\"{HOME}/.ipython/dzplab.py\"):\n",
        "    hCode = \"https://raw.githubusercontent.com/xiptv/\" \\\n",
        "                \"dzp/master/resources/dzplab.py\"\n",
        "    urllib.request.urlretrieve(hCode, f\"{HOME}/.ipython/dzplab.py\")\n",
        " \n",
        "from dzplab import (\n",
        "    checkAvailable,\n",
        "    loadingAn,\n",
        "    PortForward_wrapper,\n",
        "    runSh,\n",
        "    displayUrl,\n",
        "    findProcess\n",
        ")\n",
        " \n",
        "#Note: need to locate where the WebUI is extracted into and then remove it\n",
        "#      in order to use the proper WebUI for the Official or Unofficial version of qBittorrent\n",
        "#runSh(\"rm -f /etc/apt/sources.list.d/qbittorrent-team-ubuntu-qbittorrent-stable-bionic.list\")\n",
        "#runSh(\"rm -f /etc/apt/sources.list.d/qbittorrent-team-ubuntu-qbittorrent-stable-bionic.list.save\")\n",
        "#runSh(\"rm -f /etc/apt/sources.list.d/poplite-ubuntu-qbittorrent-enhanced-bionic.list\")\n",
        "#runSh(\"rm -f /etc/apt/sources.list.d/poplite-ubuntu-qbittorrent-enhanced-bionic.list.save\")\n",
        "#runSh(\"rm -f /usr/bin/qbittorrent\")\n",
        "#runSh(\"rm -f /usr/bin/qbittorrent-nox\")\n",
        "#runSh(\"sudo apt-get purge --auto-remove qbittorrent-nox \")\n",
        "#clear_output()\n",
        " \n",
        "def addUtils():\n",
        "    if not checkAvailable(\"/usr/local/sessionSettings\"):\n",
        "        runSh(\"mkdir -p -m 777 /usr/local/sessionSettings\")\n",
        "    if not checkAvailable(\"/content/upload.txt\"):\n",
        "        runSh(\"touch /content/upload.txt\")\n",
        "    if not checkAvailable(\"checkAptUpdate.txt\", userPath=True):\n",
        "        runSh(\"apt update -qq -y\")\n",
        "        runSh(\"apt-get install -y iputils-ping\")\n",
        " \n",
        "def configTimezone(auto=True):\n",
        "    if checkAvailable(\"timezone.txt\", userPath=True):\n",
        "        return\n",
        "    if not auto:\n",
        "        runSh(\"sudo dpkg-reconfigure tzdata\")\n",
        "    else:\n",
        "        runSh(\"sudo ln -fs /usr/share/zoneinfo/Asia/Ho_Chi_Minh /etc/localtime\")\n",
        "        runSh(\"sudo dpkg-reconfigure -f noninteractive tzdata\")\n",
        " \n",
        "def uploadQBittorrentConfig():\n",
        "    if checkAvailable(\"updatedQBSettings.txt\", userPath=True):\n",
        "        return\n",
        "    runSh(\n",
        "        \"mkdir -p -m 666 /content/qBittorrent /root/.qBittorrent_temp /root/.config/qBittorrent\"\n",
        "    )\n",
        "    runSh(\n",
        "        \"wget -qq https://raw.githubusercontent.com/xiptv/dzp/master/resources/configurations/qbittorrent/qBittorrent.conf \\\n",
        "            -O /root/.config/qBittorrent/qBittorrent.conf\"\n",
        "    )\n",
        " \n",
        "def prepareSession():\n",
        "    if checkAvailable(\"ready.txt\", userPath=True):\n",
        "        return\n",
        "    else:\n",
        "        addUtils()\n",
        "        configTimezone()\n",
        "        uploadQBittorrentConfig()\n",
        " \n",
        "def installQBittorrent():\n",
        "    if checkAvailable(\"/usr/bin/qbittorrent-nox\"):\n",
        "        return\n",
        "    else:\n",
        "#        if QBITTORRENT_VARIANT == \"official\":\n",
        "            try:\n",
        "#                if checkAvailable(\"/etc/apt/sources.list.d/poplite-ubuntu-qbittorrent-enhanced-bionic.list\"):\n",
        "#                    runSh(\"rm /etc/apt/sources.list.d/poplite-ubuntu-qbittorrent-enhanced-bionic.list\")\n",
        "#                elif checkAvailable(\"/etc/apt/sources.list.d/poplite-ubuntu-qbittorrent-enhanced-bionic.list.save\"):\n",
        "#                    runSh(\"rm /etc/apt/sources.list.d/poplite-ubuntu-qbittorrent-enhanced-bionic.list.save\")\n",
        "#                else:\n",
        "                    runSh(\"sudo add-apt-repository ppa:qbittorrent-team/qbittorrent-stable\")\n",
        "                    runSh(\"sudo apt-get update\")\n",
        "                    runSh(\"sudo apt install qbittorrent-nox\")\n",
        "            except:\n",
        "                raise Exception('Failed to install qBittorrent!')\n",
        "#        elif QBITTORRENT_VARIANT == \"unofficial\":\n",
        "#            try:\n",
        "#                if checkAvailable(\"/etc/apt/sources.list.d/qbittorrent-team-ubuntu-qbittorrent-stable-bionic.list\"):\n",
        "#                    runSh(\"rm /etc/apt/sources.list.d/qbittorrent-team-ubuntu-qbittorrent-stable-bionic.list\")\n",
        "#                elif checkAvailable(\"/etc/apt/sources.list.d/qbittorrent-team-ubuntu-qbittorrent-stable-bionic.list.save\"):\n",
        "#                    runSh(\"rm /etc/apt/sources.list.d/qbittorrent-team-ubuntu-qbittorrent-stable-bionic.list.save\")\n",
        "#                else:\n",
        "#                    runSh(\"sudo add-apt-repository ppa:poplite/qbittorrent-enhanced\")\n",
        "#                    runSh(\"sudo apt-get update\")\n",
        "#                    runSh(\"sudo apt-get install qbittorrent-enhanced qbittorrent-enhanced-nox\")\n",
        "#            except:\n",
        "#                raise Exception('Failed to install qBittorrent!')\n",
        " \n",
        "def startQBService():\n",
        "    prepareSession()\n",
        "    installQBittorrent()\n",
        "    if not findProcess(\"qbittorrent-nox\", \"-d --webui-port\"):\n",
        "        runSh(f\"qbittorrent-nox -d --webui-port={QB_Port}\")\n",
        "        time.sleep(1)\n",
        " \n",
        "QB_Port = 10001\n",
        "loadingAn()\n",
        "startQBService()\n",
        " \n",
        "clear_output()\n",
        " \n",
        "server = PortForward_wrapper(PORT_FORWARD, TOKEN, USE_FREE_TOKEN, [['qbittorrent', QB_Port, 'http']], 'sa', [f\"{HOME}/.ngrok2/qbittorrent.yml\", 4088]).start('qbittorrent', displayB=False)\n",
        "displayUrl(server, pNamU='qBittorrent : ')"
      ],
      "execution_count": null,
      "outputs": [
        {
          "output_type": "display_data",
          "data": {
            "text/html": [
              "<style>@import url('https://fonts.googleapis.com/css?family=Source+Code+Pro:200,900');  :root {   --text-color: hsla(210, 50%, 85%, 1);   --shadow-color: hsla(210, 40%, 52%, .4);   --btn-color: hsl(210, 80%, 42%);   --bg-color: #141218; }  * {   box-sizing: border-box; } button { position:relative; padding: 10px 20px;     border: none;   background: none;   cursor: pointer;      font-family: \"Source Code Pro\";   font-weight: 900;   font-size: 100%;     color: var(--text-color);      background-color: var(--btn-color);   box-shadow: var(--shadow-color) 2px 2px 22px;   border-radius: 4px;    z-index: 0;     overflow: hidden;    }  button:focus {   outline-color: transparent;   box-shadow: var(--btn-color) 2px 2px 22px; }  .right::after, button::after {   content: var(--content);   display: block;   position: absolute;   white-space: nowrap;   padding: 40px 40px;   pointer-events:none; }  button::after{   font-weight: 200;   top: -30px;   left: -20px; }   .right, .left {   position: absolute;   width: 100%;   height: 100%;   top: 0; } .right {   left: 66%; } .left {   right: 66%; } .right::after {   top: -30px;   left: calc(-66% - 20px);      background-color: var(--bg-color);   color:transparent;   transition: transform .4s ease-out;   transform: translate(0, -90%) rotate(0deg) }  button:hover .right::after {   transform: translate(0, -47%) rotate(0deg) }  button .right:hover::after {   transform: translate(0, -50%) rotate(-7deg) }  button .left:hover ~ .right::after {   transform: translate(0, -50%) rotate(7deg) }  /* bubbles */ button::before {   content: '';   pointer-events: none;   opacity: .6;   background:     radial-gradient(circle at 20% 35%,  transparent 0,  transparent 2px, var(--text-color) 3px, var(--text-color) 4px, transparent 4px),     radial-gradient(circle at 75% 44%, transparent 0,  transparent 2px, var(--text-color) 3px, var(--text-color) 4px, transparent 4px),     radial-gradient(circle at 46% 52%, transparent 0, transparent 4px, var(--text-color) 5px, var(--text-color) 6px, transparent 6px);    width: 100%;   height: 300%;   top: 0;   left: 0;   position: absolute;   animation: bubbles 5s linear infinite both; }  @keyframes bubbles {   from {     transform: translate();   }   to {     transform: translate(0, -66.666%);   } }    Resources</style><center><a href=\"http://826b9137388f4c.localhost.run\" target=\"_blank\"><div style=\"width: 570px;   height: 80px; padding-top:15px\"><button style='--content: \"qBittorrent : http://826b9137388f4c.localhost.run\";'\">   <div class=\"left\"></div>qBittorrent : http://826b9137388f4c.localhost.run<div class=\"right\"></div> </div></button></a></center>"
            ],
            "text/plain": [
              "<IPython.core.display.HTML object>"
            ]
          },
          "metadata": {}
        }
      ]
    }
  ]
}